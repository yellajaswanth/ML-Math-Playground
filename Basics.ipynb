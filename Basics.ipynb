{
  "nbformat": 4,
  "nbformat_minor": 0,
  "metadata": {
    "colab": {
      "provenance": [],
      "authorship_tag": "ABX9TyM6DpYNI01qv/452SRrxXO6",
      "include_colab_link": true
    },
    "kernelspec": {
      "name": "python3",
      "display_name": "Python 3"
    },
    "language_info": {
      "name": "python"
    }
  },
  "cells": [
    {
      "cell_type": "markdown",
      "metadata": {
        "id": "view-in-github",
        "colab_type": "text"
      },
      "source": [
        "<a href=\"https://colab.research.google.com/github/yellajaswanth/ML-Math-Playground/blob/main/Basics.ipynb\" target=\"_parent\"><img src=\"https://colab.research.google.com/assets/colab-badge.svg\" alt=\"Open In Colab\"/></a>"
      ]
    },
    {
      "cell_type": "code",
      "execution_count": 7,
      "metadata": {
        "colab": {
          "base_uri": "https://localhost:8080/"
        },
        "id": "EtEmiS_8ZFvD",
        "outputId": "097b7b72-9347-4484-8677-46970c21ecb1"
      },
      "outputs": [
        {
          "output_type": "execute_result",
          "data": {
            "text/plain": [
              "(3.993177550236464, 3.0090751157602416)"
            ]
          },
          "metadata": {},
          "execution_count": 7
        }
      ],
      "source": [
        "from math import sin, cos, pi\n",
        "def to_cartesian(polar_vector):\n",
        "  '''\n",
        "  input: (distance towards angle, angle)\n",
        "  output: (x,y) -> cartesian coordinates\n",
        "  '''\n",
        "  length, angle = polar_vector[0], polar_vector[1]\n",
        "  # cosine is used to estimate horizontal distance and sine for vertical distance\n",
        "  # i.e., x and y coodinates\n",
        "  return (length*cos(angle), length*sin(angle))\n",
        "\n",
        "angle = 37*pi/180 # converting degrees to radians. More details below.\n",
        "to_cartesian((5, angle))"
      ]
    },
    {
      "cell_type": "markdown",
      "source": [
        "### **Why angle is converted in to radians?**\n",
        "\n",
        "Radians and degrees are both units used to measure angles, but they express the size of the angle in different ways:\n",
        "\n",
        "* Degrees are based on dividing a circle into 360 equal parts. Therefore, a full circle corresponds to an angle of 360 degrees.\n",
        "\n",
        "* Radians are based on the radius of the circle. In this system, a full circle corresponds to an angle of 2π radians (approximately 6.28318 radians).\n",
        "\n",
        "So, to convert an angle from degrees to radians, you multiply by 2π/360 or π/180. This is because there are π radians in 180 degrees (half a circle), so each degree is π/180 radians."
      ],
      "metadata": {
        "id": "F1zeVh6tbPru"
      }
    },
    {
      "cell_type": "code",
      "source": [],
      "metadata": {
        "id": "bp8gtMxEZSJw"
      },
      "execution_count": null,
      "outputs": []
    }
  ]
}