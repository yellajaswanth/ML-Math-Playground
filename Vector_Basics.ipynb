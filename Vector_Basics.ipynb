{
  "nbformat": 4,
  "nbformat_minor": 0,
  "metadata": {
    "colab": {
      "provenance": [],
      "authorship_tag": "ABX9TyOhRMSxyLE/JZz1rbsobvBe",
      "include_colab_link": true
    },
    "kernelspec": {
      "name": "python3",
      "display_name": "Python 3"
    },
    "language_info": {
      "name": "python"
    }
  },
  "cells": [
    {
      "cell_type": "markdown",
      "metadata": {
        "id": "view-in-github",
        "colab_type": "text"
      },
      "source": [
        "<a href=\"https://colab.research.google.com/github/yellajaswanth/ML-Math-Playground/blob/main/Vector_Basics.ipynb\" target=\"_parent\"><img src=\"https://colab.research.google.com/assets/colab-badge.svg\" alt=\"Open In Colab\"/></a>"
      ]
    },
    {
      "cell_type": "code",
      "execution_count": 7,
      "metadata": {
        "colab": {
          "base_uri": "https://localhost:8080/"
        },
        "id": "EtEmiS_8ZFvD",
        "outputId": "097b7b72-9347-4484-8677-46970c21ecb1"
      },
      "outputs": [
        {
          "output_type": "execute_result",
          "data": {
            "text/plain": [
              "(3.993177550236464, 3.0090751157602416)"
            ]
          },
          "metadata": {},
          "execution_count": 7
        }
      ],
      "source": [
        "from math import sin, cos, pi\n",
        "def to_cartesian(polar_vector):\n",
        "  '''\n",
        "  input: (distance towards angle, angle)\n",
        "  output: (x,y) -> cartesian coordinates\n",
        "  '''\n",
        "  length, angle = polar_vector[0], polar_vector[1]\n",
        "  # cosine is used to estimate horizontal distance and sine for vertical distance\n",
        "  # i.e., x and y coodinates\n",
        "  return (length*cos(angle), length*sin(angle))\n",
        "\n",
        "angle = 37*pi/180 # converting degrees to radians. More details below.\n",
        "to_cartesian((5, angle))"
      ]
    },
    {
      "cell_type": "markdown",
      "source": [
        "### **Why angle is converted in to radians?**\n",
        "\n",
        "Radians and degrees are both units used to measure angles, but they express the size of the angle in different ways:\n",
        "\n",
        "* Degrees are based on dividing a circle into 360 equal parts. Therefore, a full circle corresponds to an angle of 360 degrees.\n",
        "\n",
        "* Radians are based on the radius of the circle. In this system, a full circle corresponds to an angle of 2π radians (approximately 6.28318 radians).\n",
        "\n",
        "So, to convert an angle from degrees to radians, you multiply by 2π/360 or π/180. This is because there are π radians in 180 degrees (half a circle), so each degree is π/180 radians."
      ],
      "metadata": {
        "id": "F1zeVh6tbPru"
      }
    },
    {
      "cell_type": "code",
      "source": [
        "from math import atan, atan2, sqrt\n",
        "\n",
        "def distance(vector):\n",
        "  '''\n",
        "  Pythagorean Theorem: c^2 = a^2 + b^2 \n",
        "  '''\n",
        "  return sqrt(vector[0]**2 + vector[1]**2)\n",
        "\n",
        "def to_polar(vector):\n",
        "  '''\n",
        "  input: (x,y) -> cartesian coordinates\n",
        "  output: (distance towards angle, angle)\n",
        "  '''\n",
        "  x, y = vector[0], vector[1]\n",
        "  angle = atan2(y,x)\n",
        "  return (distance(vector), angle)\n",
        "\n",
        "to_polar((-2,3))"
      ],
      "metadata": {
        "colab": {
          "base_uri": "https://localhost:8080/"
        },
        "id": "bp8gtMxEZSJw",
        "outputId": "c8517cdf-5b7c-421c-b582-a780c9b888c3"
      },
      "execution_count": 17,
      "outputs": [
        {
          "output_type": "execute_result",
          "data": {
            "text/plain": [
              "(3.605551275463989, 2.158798930342464)"
            ]
          },
          "metadata": {},
          "execution_count": 17
        }
      ]
    },
    {
      "cell_type": "markdown",
      "source": [
        "### **How atan2 works**\n",
        "\n",
        "**atan2(y, x)** is a function that computes the arc tangent of $y/x$ in radians, but unlike **atan(y/x)**, it takes two arguments instead of one. The inputs are the coordinates of a point $(x, y)$ that is not the origin. The result is the angle of the vector from the origin to this point, with respect to the positive X-axis.\n",
        "\n",
        "Here's how it differs from simple atan:\n",
        "\n",
        "* **atan2** gives a result in the range $(-\\pi, \\pi]$. This means it can return a unique angle for every unique point in the plane, except the origin (which doesn't have a well-defined angle).\n",
        "\n",
        "* **atan(y/x)** can only give a result in $(-\\pi/2, \\pi/2)$. This is because it doesn't know about the signs of $x$ and $y$ individually, only their ratio.\n",
        "\n",
        "* **atan2** is also defined when x is zero (resulting in $\\pi/2$ or $-\\pi/2$ depending if $y$ is positive or negative), whereas **atan(y/x)** is undefined when $x$ is zero.\n",
        "\n",
        "In the context of programming and mathematics, **atan2** is commonly used over **atan** when converting Cartesian coordinates $(x, y)$ to polar coordinates $(r, theta)$. This is because it can handle cases that **atan** cannot, such as when $x$ is zero."
      ],
      "metadata": {
        "id": "qas4t55Uhc_R"
      }
    },
    {
      "cell_type": "code",
      "source": [],
      "metadata": {
        "id": "GMi2Fmyjf52b"
      },
      "execution_count": null,
      "outputs": []
    }
  ]
}